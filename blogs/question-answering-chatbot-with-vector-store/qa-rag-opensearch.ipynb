{
 "cells": [
  {
   "cell_type": "markdown",
   "id": "c8fa7da5",
   "metadata": {},
   "source": [
    "# Question and Answering\n",
    "[Retrieval Augmented Question & Answering with Amazon Bedrock using LangChain](https://github.com/aws-samples/amazon-bedrock-workshop/blob/main/03_QuestionAnswering/01_qa_w_rag_claude.ipynb)"
   ]
  },
  {
   "cell_type": "code",
   "execution_count": 1,
   "id": "cda90cc0",
   "metadata": {},
   "outputs": [],
   "source": [
    "from sagemaker import get_execution_role"
   ]
  },
  {
   "cell_type": "code",
   "execution_count": 2,
   "id": "8ff0d94b",
   "metadata": {},
   "outputs": [
    {
     "name": "stdout",
     "output_type": "stream",
     "text": [
      "SageMaker Execution Role Name: AmazonSageMakerServiceCatalogProductsUseRole\n"
     ]
    }
   ],
   "source": [
    "strSageMakerRoleName = get_execution_role().rsplit('/', 1)[-1]\n",
    "print (f\"SageMaker Execution Role Name: {strSageMakerRoleName}\")"
   ]
  },
  {
   "cell_type": "code",
   "execution_count": 3,
   "id": "2991ffc8",
   "metadata": {},
   "outputs": [],
   "source": [
    "#!wget https://preview.documentation.bedrock.aws.dev/Documentation/SDK/bedrock-python-sdk.zip\n",
    "#!unzip bedrock-python-sdk.zip -d bedrock-sdk\n",
    "#!rm -rf bedrock-python-sdk.zip"
   ]
  },
  {
   "cell_type": "code",
   "execution_count": 4,
   "id": "3bcb123e",
   "metadata": {},
   "outputs": [],
   "source": [
    "install_needed = False"
   ]
  },
  {
   "cell_type": "code",
   "execution_count": 5,
   "id": "8c729167",
   "metadata": {},
   "outputs": [],
   "source": [
    "import sys\n",
    "import IPython\n",
    "\n",
    "if install_needed:\n",
    "    print(\"installing deps and restarting kernel\")\n",
    "    !{sys.executable} -m pip install -U pip\n",
    "    !{sys.executable} -m pip install -U sagemaker\n",
    "    !{sys.executable} -m pip install -U ./bedrock-sdk/botocore-1.29.162-py3-none-any.whl\n",
    "    !{sys.executable} -m pip install -U ./bedrock-sdk/boto3-1.26.162-py3-none-any.whl\n",
    "    !{sys.executable} -m pip install -U ./bedrock-sdk/awscli-1.27.162-py3-none-any.whl\n",
    "    !{sys.executable} -m pip install -U langchain\n",
    "    !rm -rf bedrock-sdk\n",
    "\n",
    "    IPython.Application.instance().kernel.do_shutdown(True)\n",
    "    \n",
    "    !pip install opensearch-py --quiet"
   ]
  },
  {
   "cell_type": "code",
   "execution_count": 6,
   "id": "0e902412",
   "metadata": {},
   "outputs": [],
   "source": [
    "import os\n",
    "module_path = \".\"\n",
    "sys.path.append(os.path.abspath(module_path))\n",
    "from utils import bedrock, print_ww"
   ]
  },
  {
   "cell_type": "code",
   "execution_count": 7,
   "id": "60687edc",
   "metadata": {},
   "outputs": [],
   "source": [
    "import boto3\n",
    "import langchain"
   ]
  },
  {
   "cell_type": "code",
   "execution_count": 8,
   "id": "d3f08db1",
   "metadata": {},
   "outputs": [],
   "source": [
    "bedrock_region = \"us-west-2\" \n",
    "bedrock_config = {\n",
    "    \"region_name\":bedrock_region,\n",
    "    \"endpoint_url\":\"https://prod.us-west-2.frontend.bedrock.aws.dev\"\n",
    "}"
   ]
  },
  {
   "cell_type": "code",
   "execution_count": 9,
   "id": "e05efceb",
   "metadata": {},
   "outputs": [
    {
     "name": "stdout",
     "output_type": "stream",
     "text": [
      "Create new client\n",
      "  Using region: us-west-2\n",
      "boto3 Bedrock client successfully created!\n",
      "bedrock(https://prod.us-west-2.frontend.bedrock.aws.dev)\n",
      "models:  {'ResponseMetadata': {'RequestId': '4436f3e9-4f29-4a85-b03f-b9a9f369e5b5', 'HTTPStatusCode': 200, 'HTTPHeaders': {'date': 'Tue, 25 Jul 2023 03:10:23 GMT', 'content-type': 'application/json', 'content-length': '256', 'connection': 'keep-alive', 'x-amzn-requestid': '4436f3e9-4f29-4a85-b03f-b9a9f369e5b5'}, 'RetryAttempts': 0}, 'modelSummaries': [{'modelArn': 'arn:aws:bedrock:us-west-2::foundation-model/amazon.titan-tg1-large', 'modelId': 'amazon.titan-tg1-large'}, {'modelArn': 'arn:aws:bedrock:us-west-2::foundation-model/amazon.titan-e1t-medium', 'modelId': 'amazon.titan-e1t-medium'}]}\n"
     ]
    }
   ],
   "source": [
    "boto3_bedrock = bedrock.get_bedrock_client(\n",
    "    region=bedrock_config[\"region_name\"],\n",
    "    url_override=bedrock_config[\"endpoint_url\"])\n",
    "    \n",
    "modelInfo = boto3_bedrock.list_foundation_models()    \n",
    "print('models: ', modelInfo)"
   ]
  },
  {
   "cell_type": "code",
   "execution_count": 10,
   "id": "1f03e16c",
   "metadata": {},
   "outputs": [],
   "source": [
    "from langchain.llms.bedrock import Bedrock"
   ]
  },
  {
   "cell_type": "code",
   "execution_count": 11,
   "id": "966f7737",
   "metadata": {},
   "outputs": [],
   "source": [
    "modelId = 'amazon.titan-tg1-large'\n",
    "llm = Bedrock(model_id=modelId, client=boto3_bedrock)"
   ]
  },
  {
   "cell_type": "code",
   "execution_count": 12,
   "id": "0124d752",
   "metadata": {},
   "outputs": [
    {
     "data": {
      "text/plain": [
       "'\\nThe current president of the United States of America is Joe Biden. He was born in Scranton, Pennsylvania and the first son of Catherine Eugenia Finnegan Biden and Joseph Robinette Biden, Sr.'"
      ]
     },
     "execution_count": 12,
     "metadata": {},
     "output_type": "execute_result"
    }
   ],
   "source": [
    "llm('Who is the president of usa?')"
   ]
  },
  {
   "cell_type": "markdown",
   "id": "4df1de65",
   "metadata": {},
   "source": [
    "## Data Preparation"
   ]
  },
  {
   "cell_type": "code",
   "execution_count": 13,
   "id": "97f6fbcc",
   "metadata": {},
   "outputs": [],
   "source": [
    "if install_needed:\n",
    "    !pip install PyPDF2 --quiet"
   ]
  },
  {
   "cell_type": "code",
   "execution_count": 14,
   "id": "d79a28da",
   "metadata": {},
   "outputs": [],
   "source": [
    "import PyPDF2\n",
    "from io import BytesIO"
   ]
  },
  {
   "cell_type": "code",
   "execution_count": 15,
   "id": "e1805fd5",
   "metadata": {},
   "outputs": [],
   "source": [
    "import sagemaker, boto3, json\n",
    "from sagemaker.session import Session"
   ]
  },
  {
   "cell_type": "code",
   "execution_count": 16,
   "id": "be8b8c39",
   "metadata": {},
   "outputs": [],
   "source": [
    "sess = sagemaker.Session()\n",
    "s3_bucket = sess.default_bucket()\n",
    "s3_prefix = 'docs'"
   ]
  },
  {
   "cell_type": "code",
   "execution_count": 17,
   "id": "b4cd4ee5",
   "metadata": {},
   "outputs": [],
   "source": [
    "#s3_file_name = 'sample-blog.pdf'\n",
    "s3_file_name = '2016-3series.pdf'\n",
    "#s3_file_name = 'gen-ai-aws.pdf'"
   ]
  },
  {
   "cell_type": "code",
   "execution_count": 18,
   "id": "9aef2a87",
   "metadata": {},
   "outputs": [],
   "source": [
    "s3r = boto3.resource(\"s3\")\n",
    "doc = s3r.Object(s3_bucket, s3_prefix+'/'+s3_file_name)\n",
    "       \n",
    "contents = doc.get()['Body'].read()\n",
    "reader = PyPDF2.PdfReader(BytesIO(contents))\n",
    "        \n",
    "raw_text = []\n",
    "for page in reader.pages:\n",
    "    raw_text.append(page.extract_text())\n",
    "contents = '\\n'.join(raw_text)  "
   ]
  },
  {
   "cell_type": "code",
   "execution_count": 19,
   "id": "20ab8ce5",
   "metadata": {},
   "outputs": [],
   "source": [
    "#new_contents = str(contents[:8000]).replace(\"\\n\",\" \") \n",
    "new_contents = str(contents).replace(\"\\n\",\" \") \n",
    "\n",
    "#print('new_contents: ', new_contents)"
   ]
  },
  {
   "cell_type": "code",
   "execution_count": 20,
   "id": "304c4d1b",
   "metadata": {},
   "outputs": [],
   "source": [
    "from langchain.text_splitter import CharacterTextSplitter\n",
    "from langchain.text_splitter import RecursiveCharacterTextSplitter\n",
    "\n",
    "text_splitter = RecursiveCharacterTextSplitter(chunk_size=1000,chunk_overlap=0)\n",
    "texts = text_splitter.split_text(new_contents) "
   ]
  },
  {
   "cell_type": "code",
   "execution_count": 21,
   "id": "af52af0a",
   "metadata": {},
   "outputs": [],
   "source": [
    "from langchain.docstore.document import Document\n",
    "docs = [\n",
    "    Document(\n",
    "        page_content=t\n",
    "    ) for t in texts[:5]\n",
    "]"
   ]
  },
  {
   "cell_type": "code",
   "execution_count": 22,
   "id": "a14c2dd0",
   "metadata": {},
   "outputs": [],
   "source": [
    "from langchain.embeddings import BedrockEmbeddings\n",
    "bedrock_embeddings = BedrockEmbeddings(client=boto3_bedrock)"
   ]
  },
  {
   "cell_type": "code",
   "execution_count": 23,
   "id": "ea3ddcbe",
   "metadata": {},
   "outputs": [],
   "source": [
    "from langchain.vectorstores import OpenSearchVectorSearch"
   ]
  },
  {
   "cell_type": "code",
   "execution_count": 24,
   "id": "71a51dfa",
   "metadata": {},
   "outputs": [],
   "source": [
    "endpoint_url = \"https://search-os-rag-ndnwd5kdjwyo6ohcdyc22nufmi.ap-northeast-2.es.amazonaws.com\""
   ]
  },
  {
   "cell_type": "code",
   "execution_count": 25,
   "id": "c4afc898",
   "metadata": {},
   "outputs": [],
   "source": [
    "vectorstore = OpenSearchVectorSearch.from_documents(\n",
    "    docs, \n",
    "    bedrock_embeddings, \n",
    "    opensearch_url=endpoint_url,\n",
    "    http_auth=(\"admin\", \"Wifi1234!\"),\n",
    ")"
   ]
  },
  {
   "cell_type": "code",
   "execution_count": 26,
   "id": "3c7f0857",
   "metadata": {},
   "outputs": [],
   "source": [
    "query = \"What did the president say about Ketanji Brown Jackson\"\n",
    "docs = vectorstore.similarity_search(query)"
   ]
  },
  {
   "cell_type": "code",
   "execution_count": 27,
   "id": "a6d0b94c",
   "metadata": {},
   "outputs": [
    {
     "data": {
      "text/plain": [
       "[Document(page_content='the text beginning,  “This should only be done by your service  center …” should be disregarded and the  following text should be read in lieu thereof:  “BMW recommends having this work per- formed by a service center as it is important  that this safety feature functions properly.” 7.At page 91, under the heading: \\xa0 “Special  windshield,” the paragraph beginning,  “Therefore, have the special windshield …”  should be disregarded and the following  text should be read in lieu thereof: \\xa0 “BMW  recommends that you have the special  windshield replaced by the service center.” 8.At page 168 under the heading: “Objects  within the range of movement of the ped- als” and at page 232 under the heading:  “Carpets and floor mats,” the paragraph  that begins: “Only use floor mats …” should  be disregarded and the following language  should be read in lieu thereof: “The manu- facturer of your vehicle recommends that  you use floor mats that have been identified  by it as appropriate for use in', metadata={}),\n",
       " Document(page_content=\"the onboard literature. We wish you a safe and enjoyable ride. BMW AG   The Owner's Manual is available in many countries as an app. Additional information on the Internet: www.bmw.com/bmw_drivers_guide Online Edition for Part no. 01 40 2 960 440 - II/15 © 2015 Bayerische Motoren Werke Aktiengesellschaft Munich, Germany Reprinting, including excerpts, only with the written consent of BMW AG, Munich. US English II/15, 03 15 490 Printed on environmentally friendly paper, bleached without chlorine, suitable for recycling. Online Edition for Part no. 01 40 2 960 440 - II/15 Addendum ADDENDUM TO OWNER'S MANUAL We wanted to provide you with some updates  and clarifications with respect to the printed  BMW Owner's Manual. These updates and  clarifications will supersede the materials con- tained in that document.  1.Where the terms “service center,” “the ser- vice center,” “your service center,” “service  specialist,” or “service” are used in the  Owner's Manual, we wanted to clarify that\", metadata={}),\n",
       " Document(page_content=\"are free to elect, both during  those periods and thereafter, to have main- tenance and repair work provided by other  service centers or repair shops. 3.Where the Owner's Manual makes refer- ence to parts and accessories having been  approved by BMW, those references are  intended to reflect that those parts and  accessories are recommended by BMW of  North America LLC. You may elect to use  other parts and accessories, but, if you do, we recommend that you make sure that any  such parts and/or accessories are appropri- ate for use on your vehicle. 4.At page 7, under the warranty section's dis- cussion of homologation, where it states  that you “cannot lodge warranty claims for  your vehicle there,” the text should read  that you “may not be able to lodge warranty  claims for your vehicle there.”  5.At page 7, under the “Parts and accesso- ries” section, in the sixth sentence, the  word “cannot” should read “does not.” 6.At page 54, in the “Check and replace  safety belts” section,\", metadata={}),\n",
       " Document(page_content=\"Owner's Manual for Vehicle The Ultimate Driving Machine® THE BMW 3 SERIES SEDAN. OWNER'S MANUAL. Contents A-Z Online Edition for Part no. 01 40 2 960 440 - II/15  3 Series Owner's Manual for Vehicle Thank you for choosing a BMW. The more familiar you are with your vehicle, the better control you will have on the road. We therefore strongly suggest: Read this Owner's Manual before starting off in your new BMW. Also use the Integrated Owner's Manual in your vehicle. It con‐ tains important information on vehicle operation that will help you make full use of the technical features available in your BMW. The manual also contains information designed to en‐ hance operating reliability and road safety, and to contribute to maintaining the value of your BMW. Any updates made after the editorial deadline for the printed or Integrated Owner's Manual are found in the appendix of the printed Quick Reference for the vehicle. Supplementary information can be found in the additional bro‐ chures in\", metadata={})]"
      ]
     },
     "execution_count": 27,
     "metadata": {},
     "output_type": "execute_result"
    }
   ],
   "source": [
    "docs"
   ]
  },
  {
   "cell_type": "markdown",
   "id": "a0d07d6b",
   "metadata": {},
   "source": [
    "### Question Answering1"
   ]
  },
  {
   "cell_type": "code",
   "execution_count": 28,
   "id": "d6c4de6b",
   "metadata": {},
   "outputs": [],
   "source": [
    "from langchain.embeddings import BedrockEmbeddings\n",
    "bedrock_embeddings = BedrockEmbeddings(client=boto3_bedrock)"
   ]
  },
  {
   "cell_type": "code",
   "execution_count": 29,
   "id": "d095bd01",
   "metadata": {},
   "outputs": [],
   "source": [
    "query = \"Tell me how to use the manual.\""
   ]
  },
  {
   "cell_type": "code",
   "execution_count": 30,
   "id": "7b234fea",
   "metadata": {},
   "outputs": [],
   "source": [
    "from langchain.indexes.vectorstore import VectorStoreIndexWrapper"
   ]
  },
  {
   "cell_type": "code",
   "execution_count": 31,
   "id": "e7ef908b",
   "metadata": {},
   "outputs": [],
   "source": [
    "wrapper_store_faiss = VectorStoreIndexWrapper(vectorstore=vectorstore)"
   ]
  },
  {
   "cell_type": "code",
   "execution_count": 32,
   "id": "8f954f2d",
   "metadata": {},
   "outputs": [
    {
     "name": "stdout",
     "output_type": "stream",
     "text": [
      "4 documents are fetched which are relevant to the query.\n",
      "----\n",
      "## Document 1: are free to elect, both during  those periods and thereafter, to have main- tenance\n",
      "and repair work provided by other  service centers or repair shops. 3.Where the Owner's Manual makes\n",
      "refer- ence to parts and accessories having been  approved by BMW, those references are  intended to\n",
      "reflect that those parts and  accessories are recommended by BMW of  North America LLC. You may\n",
      "elect to use  other parts and accessories, but, if you do, we recommend that you make sure that any\n",
      "such parts and/or accessories are appropri- ate for use on your vehicle. 4.At page 7, under the\n",
      "warranty section's dis- cussion of homologation, where it states  that you “cannot lodge warranty\n",
      "claims for  your vehicle there,” the text should read  that you “may not be able to lodge warranty\n",
      "claims for your vehicle there.”  5.At page 7, under the “Parts and accesso- ries” section, in the\n",
      "sixth sentence, the  word “cannot” should read “does not.” 6.At page 54, in the “Check and replace\n",
      "safety belts” section,.......\n",
      "---\n",
      "## Document 2: Owner's Manual for Vehicle The Ultimate Driving Machine® THE BMW 3 SERIES SEDAN.\n",
      "OWNER'S MANUAL. Contents A-Z Online Edition for Part no. 01 40 2 960 440 - II/15  3 Series Owner's\n",
      "Manual for Vehicle Thank you for choosing a BMW. The more familiar you are with your vehicle, the\n",
      "better control you will have on the road. We therefore strongly suggest: Read this Owner's Manual\n",
      "before starting off in your new BMW. Also use the Integrated Owner's Manual in your vehicle. It con‐\n",
      "tains important information on vehicle operation that will help you make full use of the technical\n",
      "features available in your BMW. The manual also contains information designed to en‐ hance operating\n",
      "reliability and road safety, and to contribute to maintaining the value of your BMW. Any updates\n",
      "made after the editorial deadline for the printed or Integrated Owner's Manual are found in the\n",
      "appendix of the printed Quick Reference for the vehicle. Supplementary information can be found in\n",
      "the additional bro‐ chures in.......\n",
      "---\n",
      "## Document 3: the onboard literature. We wish you a safe and enjoyable ride. BMW AG   The Owner's\n",
      "Manual is available in many countries as an app. Additional information on the Internet:\n",
      "www.bmw.com/bmw_drivers_guide Online Edition for Part no. 01 40 2 960 440 - II/15 © 2015 Bayerische\n",
      "Motoren Werke Aktiengesellschaft Munich, Germany Reprinting, including excerpts, only with the\n",
      "written consent of BMW AG, Munich. US English II/15, 03 15 490 Printed on environmentally friendly\n",
      "paper, bleached without chlorine, suitable for recycling. Online Edition for Part no. 01 40 2 960\n",
      "440 - II/15 Addendum ADDENDUM TO OWNER'S MANUAL We wanted to provide you with some updates  and\n",
      "clarifications with respect to the printed  BMW Owner's Manual. These updates and  clarifications\n",
      "will supersede the materials con- tained in that document.  1.Where the terms “service center,” “the\n",
      "ser- vice center,” “your service center,” “service  specialist,” or “service” are used in the\n",
      "Owner's Manual, we wanted to clarify that.......\n",
      "---\n",
      "## Document 4: the text beginning,  “This should only be done by your service  center …” should be\n",
      "disregarded and the  following text should be read in lieu thereof:  “BMW recommends having this\n",
      "work per- formed by a service center as it is important  that this safety feature functions\n",
      "properly.” 7.At page 91, under the heading:   “Special  windshield,” the paragraph beginning,\n",
      "“Therefore, have the special windshield …”  should be disregarded and the following  text should be\n",
      "read in lieu thereof:   “BMW  recommends that you have the special  windshield replaced by the\n",
      "service center.” 8.At page 168 under the heading: “Objects  within the range of movement of the ped-\n",
      "als” and at page 232 under the heading:  “Carpets and floor mats,” the paragraph  that begins: “Only\n",
      "use floor mats …” should  be disregarded and the following language  should be read in lieu thereof:\n",
      "“The manu- facturer of your vehicle recommends that  you use floor mats that have been identified\n",
      "by it as appropriate for use in.......\n",
      "---\n"
     ]
    }
   ],
   "source": [
    "relevant_documents = vectorstore.similarity_search(query)\n",
    "print(f'{len(relevant_documents)} documents are fetched which are relevant to the query.')\n",
    "print('----')\n",
    "for i, rel_doc in enumerate(relevant_documents):\n",
    "    print_ww(f'## Document {i+1}: {rel_doc.page_content}.......')\n",
    "    print('---')"
   ]
  },
  {
   "cell_type": "code",
   "execution_count": 33,
   "id": "421fa00a",
   "metadata": {},
   "outputs": [],
   "source": [
    "answer = wrapper_store_faiss.query(question=query, llm=llm)"
   ]
  },
  {
   "cell_type": "code",
   "execution_count": 34,
   "id": "8c992e67",
   "metadata": {},
   "outputs": [
    {
     "name": "stdout",
     "output_type": "stream",
     "text": [
      "\n",
      "Read this owner's manual before starting off in your new BMW. Also use the Integrated Owner's Manual\n",
      "in your vehicle. It contains important information on vehicle operation that will help you make full\n",
      "use of the technical features available in your BMW.\n",
      "\n"
     ]
    }
   ],
   "source": [
    "print_ww(answer)"
   ]
  },
  {
   "cell_type": "markdown",
   "id": "b181fc93",
   "metadata": {},
   "source": [
    "### Customisable option"
   ]
  },
  {
   "cell_type": "code",
   "execution_count": 35,
   "id": "4c64c488",
   "metadata": {},
   "outputs": [],
   "source": [
    "from langchain.prompts import PromptTemplate\n",
    "\n",
    "prompt_template = \"\"\"Human: Use the following pieces of context to provide a concise answer to the question at the end. If you don't know the answer, just say that you don't know, don't try to make up an answer.\n",
    "\n",
    "{context}\n",
    "\n",
    "Question: {question}\n",
    "Assistant:\"\"\"\n",
    "PROMPT = PromptTemplate(\n",
    "    template=prompt_template, input_variables=[\"context\", \"question\"]\n",
    ")"
   ]
  },
  {
   "cell_type": "code",
   "execution_count": 36,
   "id": "fc8d0060",
   "metadata": {},
   "outputs": [],
   "source": [
    "from langchain.chains import RetrievalQA\n",
    "\n",
    "qa = RetrievalQA.from_chain_type(\n",
    "    llm=llm,\n",
    "    chain_type=\"stuff\",\n",
    "    retriever=vectorstore.as_retriever(\n",
    "        search_type=\"similarity\", search_kwargs={\"k\": 3}\n",
    "    ),\n",
    "    return_source_documents=True,\n",
    "    chain_type_kwargs={\"prompt\": PROMPT}\n",
    ")"
   ]
  },
  {
   "cell_type": "code",
   "execution_count": 37,
   "id": "c6e6e4a9",
   "metadata": {},
   "outputs": [
    {
     "name": "stdout",
     "output_type": "stream",
     "text": [
      "result:  {'query': 'Tell me how to use the manual.', 'result': \" The owner's manual provides important information on vehicle operation and maintenance. It is recommended that you read it before starting off in your new BMW. The manual is available in many countries as an app and additional information can be found on the Internet.\", 'source_documents': [Document(page_content=\"are free to elect, both during  those periods and thereafter, to have main- tenance and repair work provided by other  service centers or repair shops. 3.Where the Owner's Manual makes refer- ence to parts and accessories having been  approved by BMW, those references are  intended to reflect that those parts and  accessories are recommended by BMW of  North America LLC. You may elect to use  other parts and accessories, but, if you do, we recommend that you make sure that any  such parts and/or accessories are appropri- ate for use on your vehicle. 4.At page 7, under the warranty section's dis- cussion of homologation, where it states  that you “cannot lodge warranty claims for  your vehicle there,” the text should read  that you “may not be able to lodge warranty  claims for your vehicle there.”  5.At page 7, under the “Parts and accesso- ries” section, in the sixth sentence, the  word “cannot” should read “does not.” 6.At page 54, in the “Check and replace  safety belts” section,\", metadata={}), Document(page_content=\"Owner's Manual for Vehicle The Ultimate Driving Machine® THE BMW 3 SERIES SEDAN. OWNER'S MANUAL. Contents A-Z Online Edition for Part no. 01 40 2 960 440 - II/15  3 Series Owner's Manual for Vehicle Thank you for choosing a BMW. The more familiar you are with your vehicle, the better control you will have on the road. We therefore strongly suggest: Read this Owner's Manual before starting off in your new BMW. Also use the Integrated Owner's Manual in your vehicle. It con‐ tains important information on vehicle operation that will help you make full use of the technical features available in your BMW. The manual also contains information designed to en‐ hance operating reliability and road safety, and to contribute to maintaining the value of your BMW. Any updates made after the editorial deadline for the printed or Integrated Owner's Manual are found in the appendix of the printed Quick Reference for the vehicle. Supplementary information can be found in the additional bro‐ chures in\", metadata={}), Document(page_content=\"the onboard literature. We wish you a safe and enjoyable ride. BMW AG   The Owner's Manual is available in many countries as an app. Additional information on the Internet: www.bmw.com/bmw_drivers_guide Online Edition for Part no. 01 40 2 960 440 - II/15 © 2015 Bayerische Motoren Werke Aktiengesellschaft Munich, Germany Reprinting, including excerpts, only with the written consent of BMW AG, Munich. US English II/15, 03 15 490 Printed on environmentally friendly paper, bleached without chlorine, suitable for recycling. Online Edition for Part no. 01 40 2 960 440 - II/15 Addendum ADDENDUM TO OWNER'S MANUAL We wanted to provide you with some updates  and clarifications with respect to the printed  BMW Owner's Manual. These updates and  clarifications will supersede the materials con- tained in that document.  1.Where the terms “service center,” “the ser- vice center,” “your service center,” “service  specialist,” or “service” are used in the  Owner's Manual, we wanted to clarify that\", metadata={})]}\n"
     ]
    }
   ],
   "source": [
    "result = qa({\"query\": query})\n",
    "print('result: ', result)"
   ]
  },
  {
   "cell_type": "code",
   "execution_count": 38,
   "id": "6d106c7c",
   "metadata": {},
   "outputs": [
    {
     "name": "stdout",
     "output_type": "stream",
     "text": [
      "[Document(page_content=\"are free to elect, both during  those periods and thereafter, to have main- tenance and repair work provided by other  service centers or repair shops. 3.Where the Owner's Manual makes refer- ence to parts and accessories having been  approved by BMW, those references are  intended to reflect that those parts and  accessories are recommended by BMW of  North America LLC. You may elect to use  other parts and accessories, but, if you do, we recommend that you make sure that any  such parts and/or accessories are appropri- ate for use on your vehicle. 4.At page 7, under the warranty section's dis- cussion of homologation, where it states  that you “cannot lodge warranty claims for  your vehicle there,” the text should read  that you “may not be able to lodge warranty  claims for your vehicle there.”  5.At page 7, under the “Parts and accesso- ries” section, in the sixth sentence, the  word “cannot” should read “does not.” 6.At page 54, in the “Check and replace  safety belts” section,\", metadata={}), Document(page_content=\"Owner's Manual for Vehicle The Ultimate Driving Machine® THE BMW 3 SERIES SEDAN. OWNER'S MANUAL. Contents A-Z Online Edition for Part no. 01 40 2 960 440 - II/15  3 Series Owner's Manual for Vehicle Thank you for choosing a BMW. The more familiar you are with your vehicle, the better control you will have on the road. We therefore strongly suggest: Read this Owner's Manual before starting off in your new BMW. Also use the Integrated Owner's Manual in your vehicle. It con‐ tains important information on vehicle operation that will help you make full use of the technical features available in your BMW. The manual also contains information designed to en‐ hance operating reliability and road safety, and to contribute to maintaining the value of your BMW. Any updates made after the editorial deadline for the printed or Integrated Owner's Manual are found in the appendix of the printed Quick Reference for the vehicle. Supplementary information can be found in the additional bro‐ chures in\", metadata={}), Document(page_content=\"the onboard literature. We wish you a safe and enjoyable ride. BMW AG   The Owner's Manual is available in many countries as an app. Additional information on the Internet: www.bmw.com/bmw_drivers_guide Online Edition for Part no. 01 40 2 960 440 - II/15 © 2015 Bayerische Motoren Werke Aktiengesellschaft Munich, Germany Reprinting, including excerpts, only with the written consent of BMW AG, Munich. US English II/15, 03 15 490 Printed on environmentally friendly paper, bleached without chlorine, suitable for recycling. Online Edition for Part no. 01 40 2 960 440 - II/15 Addendum ADDENDUM TO OWNER'S MANUAL We wanted to provide you with some updates  and clarifications with respect to the printed  BMW Owner's Manual. These updates and  clarifications will supersede the materials con- tained in that document.  1.Where the terms “service center,” “the ser- vice center,” “your service center,” “service  specialist,” or “service” are used in the  Owner's Manual, we wanted to clarify that\", metadata={})]\n"
     ]
    }
   ],
   "source": [
    "source_documents = result['source_documents']\n",
    "print(source_documents)"
   ]
  },
  {
   "cell_type": "code",
   "execution_count": 39,
   "id": "308d0a6f",
   "metadata": {},
   "outputs": [
    {
     "name": "stdout",
     "output_type": "stream",
     "text": [
      "output:   The owner's manual provides important information on vehicle operation and maintenance. It is recommended that you read it before starting off in your new BMW. The manual is available in many countries as an app and additional information can be found on the Internet.\n"
     ]
    }
   ],
   "source": [
    "print('output: ', result['result'])"
   ]
  }
 ],
 "metadata": {
  "kernelspec": {
   "display_name": "conda_python3",
   "language": "python",
   "name": "conda_python3"
  },
  "language_info": {
   "codemirror_mode": {
    "name": "ipython",
    "version": 3
   },
   "file_extension": ".py",
   "mimetype": "text/x-python",
   "name": "python",
   "nbconvert_exporter": "python",
   "pygments_lexer": "ipython3",
   "version": "3.10.8"
  }
 },
 "nbformat": 4,
 "nbformat_minor": 5
}
